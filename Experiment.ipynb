{
 "cells": [
  {
   "cell_type": "code",
   "execution_count": 2,
   "metadata": {
    "collapsed": false
   },
   "outputs": [],
   "source": [
    "from sudoku import sudoku\n",
    "import cProfile\n",
    "import re"
   ]
  },
  {
   "cell_type": "code",
   "execution_count": 8,
   "metadata": {
    "collapsed": false
   },
   "outputs": [
    {
     "name": "stdout",
     "output_type": "stream",
     "text": [
      "         1235 function calls in 3.043 seconds\n",
      "\n",
      "   Ordered by: standard name\n",
      "\n",
      "   ncalls  tottime  percall  cumtime  percall filename:lineno(function)\n",
      "        1    0.000    0.000    3.043    3.043 <string>:1(<module>)\n",
      "        3    0.000    0.000    0.000    0.000 fromnumeric.py:42(_wrapit)\n",
      "      126    0.000    0.000    0.000    0.000 fromnumeric.py:456(swapaxes)\n",
      "        3    0.000    0.000    0.000    0.000 numeric.py:414(asarray)\n",
      "        6    0.000    0.000    0.001    0.000 shape_base.py:378(array_split)\n",
      "        1    0.006    0.006    3.043    3.043 sudoku.py:1(sudoku)\n",
      "        1    0.000    0.000    0.000    0.000 sudoku.py:19(<dictcomp>)\n",
      "        1    0.000    0.000    0.000    0.000 sudoku.py:21(<listcomp>)\n",
      "        1    0.000    0.000    0.000    0.000 sudoku.py:23(<listcomp>)\n",
      "        1    0.000    0.000    0.000    0.000 sudoku.py:27(<listcomp>)\n",
      "        9    0.000    0.000    0.000    0.000 sudoku.py:32(<listcomp>)\n",
      "        1    0.000    0.000    0.000    0.000 sudoku.py:36(<listcomp>)\n",
      "       27    0.001    0.000    0.002    0.000 sudoku.py:53(<listcomp>)\n",
      "        1    0.000    0.000    0.000    0.000 sudoku.py:58(<listcomp>)\n",
      "       81    0.003    0.000    0.003    0.000 sudoku.py:67(<listcomp>)\n",
      "        1    0.000    0.000    0.000    0.000 sudoku.py:72(<listcomp>)\n",
      "        6    0.000    0.000    0.000    0.000 {built-in method builtins.divmod}\n",
      "        1    0.000    0.000    3.043    3.043 {built-in method builtins.exec}\n",
      "        3    0.000    0.000    0.000    0.000 {built-in method builtins.getattr}\n",
      "       11    0.000    0.000    0.000    0.000 {built-in method builtins.len}\n",
      "        1    0.000    0.000    0.000    0.000 {built-in method math.sqrt}\n",
      "      252    0.001    0.000    0.001    0.000 {built-in method numpy.core.multiarray.array}\n",
      "       82    3.030    0.037    3.030    0.037 {built-in method pycosat.solve}\n",
      "      129    0.000    0.000    0.000    0.000 {method 'append' of 'list' objects}\n",
      "        6    0.000    0.000    0.000    0.000 {method 'cumsum' of 'numpy.ndarray' objects}\n",
      "        1    0.000    0.000    0.000    0.000 {method 'disable' of '_lsprof.Profiler' objects}\n",
      "      110    0.000    0.000    0.000    0.000 {method 'extend' of 'list' objects}\n",
      "      126    0.000    0.000    0.000    0.000 {method 'swapaxes' of 'numpy.ndarray' objects}\n",
      "      243    0.000    0.000    0.000    0.000 {method 'tolist' of 'numpy.ndarray' objects}\n",
      "\n",
      "\n"
     ]
    }
   ],
   "source": [
    "cProfile.run('sudoku([1,0,0,0,0,0,0,0,0,0,0,0,0,1])')"
   ]
  }
 ],
 "metadata": {
  "kernelspec": {
   "display_name": "Python 3",
   "language": "python",
   "name": "python3"
  },
  "language_info": {
   "codemirror_mode": {
    "name": "ipython",
    "version": 3
   },
   "file_extension": ".py",
   "mimetype": "text/x-python",
   "name": "python",
   "nbconvert_exporter": "python",
   "pygments_lexer": "ipython3",
   "version": "3.6.0"
  }
 },
 "nbformat": 4,
 "nbformat_minor": 0
}
