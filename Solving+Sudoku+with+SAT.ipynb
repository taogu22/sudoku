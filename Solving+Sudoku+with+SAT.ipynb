{
 "cells": [
  {
   "cell_type": "markdown",
   "metadata": {},
   "source": [
    "# Solve Sudoku"
   ]
  },
  {
   "cell_type": "code",
   "execution_count": 2,
   "metadata": {
    "collapsed": true
   },
   "outputs": [],
   "source": [
    "import numpy as np\n",
    "import itertools\n",
    "import pycosat"
   ]
  },
  {
   "cell_type": "code",
   "execution_count": 3,
   "metadata": {
    "collapsed": true
   },
   "outputs": [],
   "source": [
    "n = 9\n",
    "block_l = 3\n",
    "pre = [[112],[221]] # clues of Sudoku;"
   ]
  },
  {
   "cell_type": "code",
   "execution_count": 4,
   "metadata": {
    "collapsed": true
   },
   "outputs": [],
   "source": [
    "x = list(range(1,n+1)) # the number to be filled in;"
   ]
  },
  {
   "cell_type": "markdown",
   "metadata": {},
   "source": [
    "* Rule#1: 1-9 in each block/row/column"
   ]
  },
  {
   "cell_type": "code",
   "execution_count": 5,
   "metadata": {
    "collapsed": true
   },
   "outputs": [],
   "source": [
    "conditionlist = []\n",
    "xb = np.array_split(x,block_l)\n",
    "for block1 in xb:\n",
    "    for block2 in xb:\n",
    "        block = [1000*grid[0]+grid[1] for grid in itertools.product(block1.tolist(),block2.tolist())]\n",
    "        conditionlist.append(block)\n",
    "xrc = np.array_split(x,len(x))\n",
    "for line in xrc:\n",
    "    row = [1000*grid[0]+grid[1] for grid in itertools.product(line.tolist(),x)]\n",
    "    column = [1000*grid[0]+grid[1] for grid in itertools.product(x,line.tolist())]\n",
    "    conditionlist.append(row)\n",
    "    conditionlist.append(column)"
   ]
  },
  {
   "cell_type": "code",
   "execution_count": 6,
   "metadata": {},
   "outputs": [
    {
     "data": {
      "text/plain": [
       "1875"
      ]
     },
     "execution_count": 6,
     "metadata": {},
     "output_type": "execute_result"
    }
   ],
   "source": [
    "rule1 = []\n",
    "for c in conditionlist:\n",
    "    condition = [(np.array(c)*10+a).tolist() for a in x]\n",
    "    rule1.extend(condition)\n",
    "len(rule1)"
   ]
  },
  {
   "cell_type": "markdown",
   "metadata": {},
   "source": [
    "* Rule#2: only one number in each grid"
   ]
  },
  {
   "cell_type": "code",
   "execution_count": 7,
   "metadata": {},
   "outputs": [
    {
     "data": {
      "text/plain": [
       "187500"
      ]
     },
     "execution_count": 7,
     "metadata": {},
     "output_type": "execute_result"
    }
   ],
   "source": [
    "rule2 = []\n",
    "gridlist = np.array_split([1000000*grid[0]+1000*grid[1]+grid[2] for grid in itertools.product(x,x,x)],len(x)**2)\n",
    "for gridcondition in gridlist:\n",
    "    rule2.extend([[-int(grid[0]),-int(grid[1])] for grid in itertools.combinations(gridcondition,2)])\n",
    "len(rule2)"
   ]
  },
  {
   "cell_type": "markdown",
   "metadata": {},
   "source": [
    "* Solve by SAT"
   ]
  },
  {
   "cell_type": "code",
   "execution_count": 8,
   "metadata": {},
   "outputs": [
    {
     "data": {
      "text/plain": [
       "6627"
      ]
     },
     "execution_count": 8,
     "metadata": {},
     "output_type": "execute_result"
    }
   ],
   "source": [
    "solution = [sol for sol in pycosat.solve(pre+rule1+rule2) if sol>0]\n",
    "len(solution)"
   ]
  },
  {
   "cell_type": "code",
   "execution_count": 9,
   "metadata": {
    "scrolled": true
   },
   "outputs": [
    {
     "data": {
      "text/plain": [
       "[112,\n",
       " 221,\n",
       " 10011,\n",
       " 10012,\n",
       " 10013,\n",
       " 10014,\n",
       " 10015,\n",
       " 10016,\n",
       " 10017,\n",
       " 10018,\n",
       " 10019,\n",
       " 10020,\n",
       " 10021,\n",
       " 10022,\n",
       " 10023,\n",
       " 10024,\n",
       " 10025,\n",
       " 10026,\n",
       " 10027,\n",
       " 10028,\n",
       " 10029,\n",
       " 10030,\n",
       " 10031,\n",
       " 10032,\n",
       " 10033,\n",
       " 10034,\n",
       " 10035,\n",
       " 10036,\n",
       " 10037,\n",
       " 10038,\n",
       " 10039,\n",
       " 10040,\n",
       " 10041,\n",
       " 10042,\n",
       " 10043,\n",
       " 10044,\n",
       " 10045,\n",
       " 10046,\n",
       " 10047,\n",
       " 10048,\n",
       " 10049,\n",
       " 10050,\n",
       " 10051,\n",
       " 10052,\n",
       " 10053,\n",
       " 10054,\n",
       " 10055,\n",
       " 10056,\n",
       " 10057,\n",
       " 10058,\n",
       " 10059,\n",
       " 10060,\n",
       " 10061,\n",
       " 10062,\n",
       " 10063,\n",
       " 10064,\n",
       " 10065,\n",
       " 10066,\n",
       " 10067,\n",
       " 10068,\n",
       " 10069,\n",
       " 10070,\n",
       " 10071,\n",
       " 10072,\n",
       " 10073,\n",
       " 10074,\n",
       " 10075,\n",
       " 10076,\n",
       " 10077,\n",
       " 10078,\n",
       " 10079,\n",
       " 10080,\n",
       " 10081,\n",
       " 10082,\n",
       " 10083,\n",
       " 10084,\n",
       " 10085,\n",
       " 10086,\n",
       " 10087,\n",
       " 10088,\n",
       " 10089,\n",
       " 10090,\n",
       " 10091,\n",
       " 10092,\n",
       " 10093,\n",
       " 10094,\n",
       " 10095,\n",
       " 10096,\n",
       " 10097,\n",
       " 10098,\n",
       " 10099,\n",
       " 10100,\n",
       " 10101,\n",
       " 10102,\n",
       " 10103,\n",
       " 10104,\n",
       " 10105,\n",
       " 10106,\n",
       " 10107,\n",
       " 10108]"
      ]
     },
     "execution_count": 9,
     "metadata": {},
     "output_type": "execute_result"
    }
   ],
   "source": [
    "solution[:100]"
   ]
  }
 ],
 "metadata": {
  "kernelspec": {
   "display_name": "Python 3",
   "language": "python",
   "name": "python3"
  },
  "language_info": {
   "codemirror_mode": {
    "name": "ipython",
    "version": 3
   },
   "file_extension": ".py",
   "mimetype": "text/x-python",
   "name": "python",
   "nbconvert_exporter": "python",
   "pygments_lexer": "ipython3",
   "version": "3.6.1"
  }
 },
 "nbformat": 4,
 "nbformat_minor": 0
}
