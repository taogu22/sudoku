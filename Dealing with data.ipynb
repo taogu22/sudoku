{
 "cells": [
  {
   "cell_type": "code",
   "execution_count": 1,
   "metadata": {
    "collapsed": true
   },
   "outputs": [],
   "source": [
    "import scipy.stats as stats\n",
    "import pickle\n",
    "import numpy as np"
   ]
  },
  {
   "cell_type": "code",
   "execution_count": 2,
   "metadata": {
    "collapsed": true
   },
   "outputs": [],
   "source": [
    "with open('result_dict.pickle','rb') as result_dict:\n",
    "    result_dict = pickle.load(result_dict)"
   ]
  },
  {
   "cell_type": "code",
   "execution_count": 3,
   "metadata": {
    "collapsed": false
   },
   "outputs": [],
   "source": [
    "result17 = np.array(result_dict['clue17'])\n",
    "result18 = np.array(result_dict['clue18'])\n",
    "result19 = np.array(result_dict['clue19'])\n",
    "result20 = np.array(result_dict['clue20'])\n",
    "result21 = np.array(result_dict['clue21'])"
   ]
  },
  {
   "cell_type": "code",
   "execution_count": 4,
   "metadata": {
    "collapsed": false
   },
   "outputs": [],
   "source": [
    "result18_avg = np.mean(result18,axis=1)\n",
    "result19_avg = np.mean(result19,axis=1)\n",
    "result20_avg = np.mean(result20,axis=1)\n",
    "result21_avg = np.mean(result21,axis=1)\n",
    "avg_dict={'clue18':result18_avg,'clue19':result19_avg,'clue20':result20_avg,'clue21':result21_avg}\n",
    "# with open('avg_dict.pickle','wb') as a_dict:\n",
    "#     pickle.dump(avg_dict,a_dict)"
   ]
  },
  {
   "cell_type": "code",
   "execution_count": 70,
   "metadata": {
    "collapsed": false
   },
   "outputs": [],
   "source": [
    "result18_var = np.var(result18,axis=1)\n",
    "result19_var = np.var(result19,axis=1)\n",
    "result20_var = np.var(result20,axis=1)\n",
    "result21_var = np.var(result21,axis=1)\n",
    "# var_dict={'clue18':result18_var,'clue19':result19_var,'clue20':result20_var,'clue21':result21_var}\n",
    "# with open('var_dict.pickle','wb') as a_dict:\n",
    "#     pickle.dump(var_dict,a_dict)"
   ]
  },
  {
   "cell_type": "code",
   "execution_count": 71,
   "metadata": {
    "collapsed": false
   },
   "outputs": [],
   "source": [
    "s18 = result18-result17.reshape(100,-1)\n",
    "s19 = result19-result17.reshape(100,-1)\n",
    "s20 = result20-result17.reshape(100,-1)\n",
    "s21 = result21-result17.reshape(100,-1)\n",
    "# s_dict={'clue18':s18,'clue19':s19,'clue20':s20,'clue21':s21}\n",
    "# with open('s_dict.pickle','wb') as a_dict:\n",
    "#     pickle.dump(s_dict,a_dict)"
   ]
  },
  {
   "cell_type": "code",
   "execution_count": 72,
   "metadata": {
    "collapsed": false
   },
   "outputs": [],
   "source": [
    "w18 = np.mean(s18,axis=1)/result17\n",
    "w19 = np.mean(s19,axis=1)/result17\n",
    "w20 = np.mean(s20,axis=1)/result17\n",
    "w21 = np.mean(s21,axis=1)/result17\n",
    "# w_dict={'clue18':w18,'clue19':w19,'clue20':w20,'clue21':w21}\n",
    "# with open('w_dict.pickle','wb') as a_dict:\n",
    "#     pickle.dump(w_dict,a_dict)"
   ]
  },
  {
   "cell_type": "code",
   "execution_count": 7,
   "metadata": {
    "collapsed": false
   },
   "outputs": [],
   "source": [
    "stats_dict={'anova':stats.f_oneway(result17,result18_avg,result19_avg,result20_avg,result21_avg),\n",
    "            '17-18':stats.ttest_ind(result17,result18_avg),\n",
    "            '17-19':stats.ttest_ind(result17,result19_avg),\n",
    "            '17-20':stats.ttest_ind(result17,result20_avg),\n",
    "            '17-21':stats.ttest_ind(result17,result21_avg),\n",
    "            '18-19':stats.ttest_ind(result18_avg,result19_avg),\n",
    "            '18-20':stats.ttest_ind(result18_avg,result20_avg),\n",
    "            '18-21':stats.ttest_ind(result18_avg,result21_avg),\n",
    "            '19-20':stats.ttest_ind(result19_avg,result20_avg),\n",
    "            '19-21':stats.ttest_ind(result19_avg,result21_avg),\n",
    "            '20-21':stats.ttest_ind(result20_avg,result21_avg)}\n",
    "# with open('stats_dict.pickle','wb') as a_dict:\n",
    "#     pickle.dump(stats_dict,a_dict)"
   ]
  }
 ],
 "metadata": {
  "kernelspec": {
   "display_name": "Python 3",
   "language": "python",
   "name": "python3"
  },
  "language_info": {
   "codemirror_mode": {
    "name": "ipython",
    "version": 3
   },
   "file_extension": ".py",
   "mimetype": "text/x-python",
   "name": "python",
   "nbconvert_exporter": "python",
   "pygments_lexer": "ipython3",
   "version": "3.6.0"
  }
 },
 "nbformat": 4,
 "nbformat_minor": 2
}
