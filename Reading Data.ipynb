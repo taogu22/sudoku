{
 "cells": [
  {
   "cell_type": "code",
   "execution_count": 2,
   "metadata": {
    "collapsed": true
   },
   "outputs": [],
   "source": [
    "import pickle"
   ]
  },
  {
   "cell_type": "code",
   "execution_count": 4,
   "metadata": {
    "collapsed": false
   },
   "outputs": [],
   "source": [
    "with open('result_dict.pickle','rb') as a:\n",
    "    result_dict = pickle.load(a)\n",
    "with open('avg_dict.pickle','rb') as a:\n",
    "    avg_dict = pickle.load(a)\n",
    "with open('var_dict.pickle','rb') as a:\n",
    "    var_dict = pickle.load(a)\n",
    "with open('s_dict.pickle','rb') as a:\n",
    "    s_dict = pickle.load(a)\n",
    "with open('w_dict.pickle','rb') as a:\n",
    "    w_dict = pickle.load(a)\n",
    "with open('stats_dict.pickle','rb') as a:\n",
    "    stats_dict = pickle.load(a)"
   ]
  },
  {
   "cell_type": "code",
   "execution_count": 10,
   "metadata": {
    "collapsed": false
   },
   "outputs": [
    {
     "name": "stdout",
     "output_type": "stream",
     "text": [
      "dict_keys(['clue17', 'clue18', 'clue19', 'clue20', 'clue21'])\n",
      "100\n",
      "64\n"
     ]
    }
   ],
   "source": [
    "print(result_dict.keys())\n",
    "print(len(result_dict['clue18']))\n",
    "print(len(result_dict['clue18'][0]))"
   ]
  },
  {
   "cell_type": "code",
   "execution_count": 13,
   "metadata": {
    "collapsed": false
   },
   "outputs": [
    {
     "name": "stdout",
     "output_type": "stream",
     "text": [
      "dict_keys(['clue18', 'clue19', 'clue20', 'clue21'])\n",
      "(100,)\n"
     ]
    }
   ],
   "source": [
    "print(avg_dict.keys())\n",
    "print(avg_dict['clue18'].shape)"
   ]
  },
  {
   "cell_type": "code",
   "execution_count": 14,
   "metadata": {
    "collapsed": false
   },
   "outputs": [
    {
     "name": "stdout",
     "output_type": "stream",
     "text": [
      "dict_keys(['clue18', 'clue19', 'clue20', 'clue21'])\n",
      "(100,)\n"
     ]
    }
   ],
   "source": [
    "print(var_dict.keys())\n",
    "print(var_dict['clue18'].shape)"
   ]
  },
  {
   "cell_type": "code",
   "execution_count": 16,
   "metadata": {
    "collapsed": false
   },
   "outputs": [
    {
     "name": "stdout",
     "output_type": "stream",
     "text": [
      "dict_keys(['clue18', 'clue19', 'clue20', 'clue21'])\n",
      "(100, 64)\n"
     ]
    }
   ],
   "source": [
    "print(s_dict.keys())\n",
    "print(s_dict['clue18'].shape)"
   ]
  },
  {
   "cell_type": "code",
   "execution_count": 17,
   "metadata": {
    "collapsed": false
   },
   "outputs": [
    {
     "name": "stdout",
     "output_type": "stream",
     "text": [
      "dict_keys(['clue18', 'clue19', 'clue20', 'clue21'])\n",
      "(100,)\n"
     ]
    }
   ],
   "source": [
    "print(w_dict.keys())\n",
    "print(w_dict['clue18'].shape)"
   ]
  },
  {
   "cell_type": "code",
   "execution_count": 18,
   "metadata": {
    "collapsed": false
   },
   "outputs": [
    {
     "name": "stdout",
     "output_type": "stream",
     "text": [
      "dict_keys(['anova', '17-18', '17-19', '17-20', '17-21', '18-19', '18-20', '18-21', '19-20', '19-21', '20-21'])\n"
     ]
    }
   ],
   "source": [
    "print(stats_dict.keys())"
   ]
  }
 ],
 "metadata": {
  "kernelspec": {
   "display_name": "Python 3",
   "language": "python",
   "name": "python3"
  },
  "language_info": {
   "codemirror_mode": {
    "name": "ipython",
    "version": 3
   },
   "file_extension": ".py",
   "mimetype": "text/x-python",
   "name": "python",
   "nbconvert_exporter": "python",
   "pygments_lexer": "ipython3",
   "version": "3.6.0"
  }
 },
 "nbformat": 4,
 "nbformat_minor": 2
}
